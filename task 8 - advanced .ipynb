{
 "cells": [
  {
   "cell_type": "markdown",
   "id": "d6f955ba",
   "metadata": {},
   "source": [
    "The ratio of boys to girls for babies born in Russia is 1.09:1 . If there is 1 child born per birth, what proportion of Russian families with exactly 6 children will have at least 3 boys?\n",
    "\n",
    "Write a program to compute the answer using the above parameters. Then print your result, rounded to a scale of 3 decimal places "
   ]
  },
  {
   "cell_type": "code",
   "execution_count": 1,
   "id": "314369fb",
   "metadata": {},
   "outputs": [
    {
     "name": "stdout",
     "output_type": "stream",
     "text": [
      "0.696\n"
     ]
    }
   ],
   "source": [
    "def fact(n):   # function for fctorial\n",
    "    return 1 if n == 0 else n*fact(n-1)   # recursion\n",
    "\n",
    "\n",
    "def comb(n, x):   # function for combination\n",
    "    return fact(n) / (fact(x) * fact(n-x))\n",
    "\n",
    "\n",
    "def b(x, n, p):    # function for binomial distribution\n",
    "    return comb(n, x) * p**x * (1-p)**(n-x)\n",
    "\n",
    "\n",
    "# atleast 3 boys\n",
    "# cumulative probability\n",
    "\n",
    "bino=0\n",
    "for i in range(3,7):\n",
    "    bino+=b(i,6,(1.09/2.09))\n",
    "print(round(bino,3))"
   ]
  },
  {
   "cell_type": "markdown",
   "id": "c67fb7dd",
   "metadata": {},
   "source": [
    "A manufacturer of metal pistons finds that, on average, 12% of the pistons they manufacture are rejected because they are incorrectly sized. What is the probability that a batch 10 of  poistons will contain:\n",
    "\n",
    "No more than 2 rejects?\n",
    "At least 2 rejects?"
   ]
  },
  {
   "cell_type": "code",
   "execution_count": 2,
   "id": "e2f56ac8",
   "metadata": {},
   "outputs": [
    {
     "name": "stdout",
     "output_type": "stream",
     "text": [
      "0.891\n",
      "0.342\n"
     ]
    }
   ],
   "source": [
    "def fact(n):   # function for fctorial\n",
    "    return 1 if n == 0 else n*fact(n-1)\n",
    "\n",
    "\n",
    "def comb(n, x):   # function for combination\n",
    "    return fact(n) / (fact(x) * fact(n-x))\n",
    "\n",
    "\n",
    "\n",
    "def b(x, n, p):    # function for binomial distribution\n",
    "    return comb(n, x) * p**x * (1-p)**(n-x)\n",
    "\n",
    "\n",
    "\n",
    "bino=0     # no more than 2 rejects\n",
    "for i in range(3):\n",
    "    bino+=b(i,10,.12)\n",
    "print(round(bino,3))\n",
    "\n",
    "bino=0      # atleast 2 rejects\n",
    "for i in range(2,11):\n",
    "    bino+=b(i,10,.12)\n",
    "\n",
    "print(round(bino,3))"
   ]
  },
  {
   "cell_type": "markdown",
   "id": "32d21d34",
   "metadata": {},
   "source": [
    "in  a certain plant, the time taken to assemble a car is a random variable, X, having a normal distribution with a mean of 20  hours and a standard deviation of 2 hours. What is the probability that a car can be assembled at this plant in:\n",
    "\n",
    "Less than 19.5 hours?\n",
    "Between 20  and 22 hours?"
   ]
  },
  {
   "cell_type": "code",
   "execution_count": 3,
   "id": "f9def54c",
   "metadata": {},
   "outputs": [
    {
     "name": "stdout",
     "output_type": "stream",
     "text": [
      "0.401\n",
      "0.341\n"
     ]
    }
   ],
   "source": [
    "import math\n",
    "mean, std = 20, 2\n",
    "cdf = lambda x: 0.5 * (1 + math.erf((x - mean) / (std * (2 ** 0.5)))) # cumulative distribution function\n",
    "\n",
    "# Less than 19.5\n",
    "print('{:.3f}'.format(cdf(19.5)))\n",
    "# Between 20 and 22\n",
    "print('{:.3f}'.format(cdf(22) - cdf(20)))"
   ]
  },
  {
   "cell_type": "markdown",
   "id": "115fad7e",
   "metadata": {},
   "source": [
    "\n",
    "The final grades for a Physics exam taken by a large group of students have a mean of 70 and a standard deviation of 10 . If we can approximate the distribution of these grades by a normal distribution, what percentage of the students:\n",
    "\n",
    "Scored higher than 80 \n",
    "Passed the test (i.e., have a grade>=60)?\n",
    "Failed the test (i.e., have a grade<=60)?\n",
    "Find and print the answer to each question on a new line, rounded to a scale of 2 decimal places."
   ]
  },
  {
   "cell_type": "code",
   "execution_count": 4,
   "id": "fe4e62e9",
   "metadata": {},
   "outputs": [
    {
     "name": "stdout",
     "output_type": "stream",
     "text": [
      "15.87\n",
      "84.13\n",
      "15.87\n"
     ]
    }
   ],
   "source": [
    "import math\n",
    "mean, std = 70, 10\n",
    "cdf = lambda x: 0.5 * (1 + math.erf((x - mean) / (std * (2 ** 0.5)))) # cumulative distribution function\n",
    "\n",
    "#higher then 80\n",
    "print(round((1-cdf(80))*100,2))   # Scored higher than (>80)\n",
    "#passed the test\n",
    "print(round((1-cdf(60))*100,2))  # passed the test (>= 60)\n",
    "#failed the test\n",
    "print(round((cdf(60))*100,2)) # failed the test (<60)"
   ]
  },
  {
   "cell_type": "markdown",
   "id": "5084cf65",
   "metadata": {},
   "source": [
    "A large elevator can transport a maximum of  9800  pounds. Suppose a load of cargo containing 49 boxes must be transported via the elevator. The box weight of this type of cargo follows a distribution with a mean of 205  pounds and a standard deviation of 15  pounds. Based on this information, what is the probability that all 49  boxes can be safely loaded into the freight elevator and transported?"
   ]
  },
  {
   "cell_type": "code",
   "execution_count": 5,
   "id": "c6360398",
   "metadata": {},
   "outputs": [
    {
     "name": "stdout",
     "output_type": "stream",
     "text": [
      "9800\n",
      "49\n",
      "205\n",
      "15\n",
      "0.0098\n"
     ]
    }
   ],
   "source": [
    "import math\n",
    "\n",
    "x = int(input())\n",
    "n = int(input())\n",
    "mu = int(input())\n",
    "sigma = int(input())\n",
    "\n",
    "mu_sum = n * mu                    # CLT\n",
    "sigma_sum = math.sqrt(n) * sigma   # CLT\n",
    "\n",
    "\n",
    "def cdf(x, mu, sigma):\n",
    "    Z = (x - mu)/sigma\n",
    "    return 0.5*(1 + math.erf(Z/(math.sqrt(2))))\n",
    "\n",
    "print(round(cdf(x, mu_sum, sigma_sum), 4))"
   ]
  },
  {
   "cell_type": "markdown",
   "id": "6df29230",
   "metadata": {},
   "source": [
    "The number of tickets purchased by each student for the University X vs. University Y football game follows a distribution that has a mean of 2.4  and a standard deviation of 2.\n",
    "\n",
    "A few hours before the game starts, 100 eager students line up to purchase last-minute tickets. If there are only 250 tickets left, what is the probability that all 100 students will be able to purchase tickets?"
   ]
  },
  {
   "cell_type": "code",
   "execution_count": 6,
   "id": "1d1def1f",
   "metadata": {},
   "outputs": [
    {
     "name": "stdout",
     "output_type": "stream",
     "text": [
      "0.6915\n"
     ]
    }
   ],
   "source": [
    "import math\n",
    "\n",
    "x = 250\n",
    "n = 100\n",
    "mu = 2.4\n",
    "sigma = 2.0\n",
    "\n",
    "mu_sum = n * mu                    # CLT\n",
    "sigma_sum = math.sqrt(n) * sigma   # CLT\n",
    "\n",
    "###############################################\n",
    "\n",
    "def cdf(x, mu, sigma):\n",
    "    Z = (x - mu)/sigma\n",
    "    return 0.5*(1 + math.erf(Z/(math.sqrt(2))))\n",
    "\n",
    "print(round(cdf(x, mu_sum, sigma_sum), 4))"
   ]
  },
  {
   "cell_type": "markdown",
   "id": "3d6be247",
   "metadata": {},
   "source": [
    " You have a sample of 100 values from a population with a mean of 500 and with a standard deviation of 80. Compute the interval that covers the middle 95% of the distribution of the sample mean; in other words, compute A and B such that P(A<x<B)=0.95. Use the value of z=1.96."
   ]
  },
  {
   "cell_type": "code",
   "execution_count": 7,
   "id": "57cc9d2f",
   "metadata": {},
   "outputs": [
    {
     "name": "stdout",
     "output_type": "stream",
     "text": [
      "484.32\n",
      "515.68\n"
     ]
    }
   ],
   "source": [
    "# true population distribution\n",
    "mu, sigma = 500, 80\n",
    "\n",
    "# sample mean distribution\n",
    "muS, sigmaS = mu, sigma/(100**0.5)\n",
    "\n",
    "# confidence intervals of sample mean dist\n",
    "A = mu - (1.96*sigmaS)\n",
    "B = mu + (1.96*sigmaS)\n",
    "\n",
    "print(round(A,2))\n",
    "print(round(B,2))"
   ]
  },
  {
   "cell_type": "markdown",
   "id": "4b5f1b69",
   "metadata": {},
   "source": [
    "You have given two n-element data sets, X and Y, to calculate the value of the Pearson correlation coefficient."
   ]
  },
  {
   "cell_type": "code",
   "execution_count": 8,
   "id": "f6b54a12",
   "metadata": {},
   "outputs": [
    {
     "name": "stdout",
     "output_type": "stream",
     "text": [
      "10\n",
      "1 2 3 4 5 6 7 8 9 1 \n",
      "1 2 3 4 5  6 7 8 9 1\n",
      "1.0\n"
     ]
    }
   ],
   "source": [
    "n = int(input())\n",
    "X = list(map(float,input().split()))\n",
    "Y = list(map(float,input().split()))\n",
    "mu_x = sum(X)/n\n",
    "std_x = (sum([(i - mu_x)**2 for i in X]) / n)**0.5\n",
    "mu_y = sum(Y)/n\n",
    "std_y = (sum([(i - mu_y)**2 for i in Y]) / n)**0.5\n",
    "sums = 0\n",
    "for i in range(n):\n",
    "    sums += ((X[i]-mu_x)*(Y[i]-mu_y))\n",
    "corr_coef = sums / (n*std_x*std_y)\n",
    "print(round(corr_coef,3))"
   ]
  },
  {
   "cell_type": "markdown",
   "id": "b522c761",
   "metadata": {},
   "source": [
    " A group of five students enroll in Statistics immediately after taking a Math aptitude test. Each student's Math aptitude test score, x, and Statistics course grade, y, can be expressed as the following list of (x,y) points:\n",
    "\n",
    "(95,85)\n",
    "\n",
    "(85,95)\n",
    "\n",
    "(80,70)\n",
    "\n",
    "If a student scored an 80 on the Math aptitude test, what grade would we expect them to achieve in Statistics? Determine the equation of the best-fit line using the least-squares method, then compute and print the value of y when x=80."
   ]
  },
  {
   "cell_type": "code",
   "execution_count": 9,
   "id": "433a41b6",
   "metadata": {},
   "outputs": [
    {
     "name": "stdout",
     "output_type": "stream",
     "text": [
      "95 85\n",
      "85 95\n",
      "80 70\n",
      "70 65\n",
      "60 70\n",
      "[95, 85, 80, 70, 60]\n",
      "[85, 95, 70, 65, 70]\n",
      "78.288\n"
     ]
    }
   ],
   "source": [
    "from sklearn import linear_model\n",
    "import numpy as np\n",
    "X = []\n",
    "Y = []\n",
    "for i in range(5):\n",
    "    x,y = list(map(int,input().split()))\n",
    "    X.append(x)\n",
    "    Y.append(y)\n",
    "print(X)\n",
    "print(Y)\n",
    "X = np.array(X).reshape(-1,1)\n",
    "lm = linear_model.LinearRegression()\n",
    "lm.fit(X, Y)\n",
    "print(np.round_(lm.intercept_+80*lm.coef_,3)[0])\n"
   ]
  },
  {
   "cell_type": "markdown",
   "id": "f12590d9",
   "metadata": {},
   "source": [
    " we have an equation y = a+ b*f +...+bm*fm. so for each of the q feature sets, we need to print the value of y on the new line."
   ]
  },
  {
   "cell_type": "code",
   "execution_count": 10,
   "id": "d6ee0db6",
   "metadata": {},
   "outputs": [
    {
     "name": "stdout",
     "output_type": "stream",
     "text": [
      "2 7\n",
      "0.18 0.89 109.85\n",
      "1.0 0.26 155.72\n",
      "0.92 0.11 137.66\n",
      "0.07 0.37 76.17\n",
      "0.85 0.16 139.75\n",
      "0.99 0.41 162.6\n",
      "0.87 0.47 151.77\n",
      "4\n",
      "0.49 0.18\n",
      "105.21455835106944\n",
      "0.57 0.83\n",
      "142.67095130729922\n",
      "0.56 0.64\n",
      "132.93605469124694\n",
      "0.76 0.18\n",
      "129.70175404502453\n"
     ]
    }
   ],
   "source": [
    "import numpy as np\n",
    "from sklearn.linear_model import LinearRegression\n",
    "\n",
    "\n",
    "m, n = map(int, input().split())\n",
    "xy = [list(map(float, input().split())) for _ in range(n)]\n",
    "y = np.array([i.pop() for i in xy])\n",
    "X = np.array(xy)\n",
    "\n",
    "lm = LinearRegression()\n",
    "lm.fit(X, y)\n",
    "\n",
    "\n",
    "q = int(input())\n",
    "for _ in range(q):\n",
    "    print(float(lm.predict([np.array(input().split(), float)])))"
   ]
  },
  {
   "cell_type": "code",
   "execution_count": null,
   "id": "c5b0fa40",
   "metadata": {},
   "outputs": [],
   "source": []
  }
 ],
 "metadata": {
  "kernelspec": {
   "display_name": "Python 3",
   "language": "python",
   "name": "python3"
  }
 },
 "nbformat": 4,
 "nbformat_minor": 5
}
