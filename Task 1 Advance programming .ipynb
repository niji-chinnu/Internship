{
 "cells": [
  {
   "cell_type": "markdown",
   "id": "95486f1f",
   "metadata": {},
   "source": [
    "Running sumof 1d array\n",
    "\n",
    "Given an array nums. We define a running sum of an array as runningSum[i] = sum(nums[0]…nums[i]).\n",
    "\n",
    "Return the running sum of nums."
   ]
  },
  {
   "cell_type": "code",
   "execution_count": 7,
   "id": "f646c780",
   "metadata": {},
   "outputs": [],
   "source": [
    "def running_sum(nums):\n",
    "    sum=0\n",
    "    result=[]\n",
    "    for num in nums:\n",
    "        sum=sum+num\n",
    "        result.append(sum)\n",
    "    return result"
   ]
  },
  {
   "cell_type": "code",
   "execution_count": 8,
   "id": "98aa8d0d",
   "metadata": {},
   "outputs": [
    {
     "data": {
      "text/plain": [
       "[1, 2, 3, 4, 5]"
      ]
     },
     "execution_count": 8,
     "metadata": {},
     "output_type": "execute_result"
    }
   ],
   "source": [
    "nums=[1,1,1,1,1]\n",
    "running_sum(nums)"
   ]
  },
  {
   "cell_type": "markdown",
   "id": "be0e09f0",
   "metadata": {},
   "source": [
    "2.Suffle array"
   ]
  },
  {
   "cell_type": "code",
   "execution_count": 17,
   "id": "a95f742f",
   "metadata": {},
   "outputs": [],
   "source": [
    "def shuffle_array(a, n):\n",
    "    i, j, k = 0, 1, n\n",
    "    while(i < n):    \n",
    "        q = k \n",
    "        while(q > (i + j)):\n",
    "            a[q - 1], a[q] = a[q], a[q - 1]\n",
    "            q = q - 1\n",
    "        i = i + 1\n",
    "        k = k + 1\n",
    "        q = q + 1\n",
    "    shuffled = []\n",
    "    for no in range(0, len(a)):\n",
    "        shuffled.append(a[no])\n",
    "    return shuffled"
   ]
  },
  {
   "cell_type": "code",
   "execution_count": 18,
   "id": "b79e1b49",
   "metadata": {},
   "outputs": [],
   "source": [
    "nums = [1,2,3,4,4,3,2,1]\n",
    "n=4"
   ]
  },
  {
   "cell_type": "code",
   "execution_count": 19,
   "id": "b4e9bcb7",
   "metadata": {},
   "outputs": [
    {
     "data": {
      "text/plain": [
       "[1, 4, 3, 2, 1, 2, 3, 4]"
      ]
     },
     "execution_count": 19,
     "metadata": {},
     "output_type": "execute_result"
    }
   ],
   "source": [
    "shuffle_array(nums,n)"
   ]
  },
  {
   "cell_type": "markdown",
   "id": "2646026a",
   "metadata": {},
   "source": [
    "3.Kids with greatest number of candies "
   ]
  },
  {
   "cell_type": "code",
   "execution_count": 20,
   "id": "3d7e26ba",
   "metadata": {},
   "outputs": [],
   "source": [
    " def kidsWithCandies(candies, extraCandies):\n",
    "        l=len(candies)\n",
    "        result=[]\n",
    "        for i in range(l):\n",
    "            if candies[i]+extraCandies >= max(candies):\n",
    "                result.append(True)\n",
    "            else:\n",
    "                result.append(False)\n",
    "        return result"
   ]
  },
  {
   "cell_type": "code",
   "execution_count": 23,
   "id": "f7d65f03",
   "metadata": {},
   "outputs": [
    {
     "data": {
      "text/plain": [
       "[True, False, True]"
      ]
     },
     "execution_count": 23,
     "metadata": {},
     "output_type": "execute_result"
    }
   ],
   "source": [
    "candies = [12,1,12]\n",
    "extraCandies = 10\n",
    "kidsWithCandies(candies,extraCandies)"
   ]
  },
  {
   "cell_type": "code",
   "execution_count": null,
   "id": "2deffaec",
   "metadata": {},
   "outputs": [],
   "source": [
    "\n"
   ]
  }
 ],
 "metadata": {
  "kernelspec": {
   "display_name": "Python 3",
   "language": "python",
   "name": "python3"
  },
  "language_info": {
   "codemirror_mode": {
    "name": "ipython",
    "version": 3
   },
   "file_extension": ".py",
   "mimetype": "text/x-python",
   "name": "python",
   "nbconvert_exporter": "python",
   "pygments_lexer": "ipython3",
   "version": "3.8.8"
  }
 },
 "nbformat": 4,
 "nbformat_minor": 5
}
